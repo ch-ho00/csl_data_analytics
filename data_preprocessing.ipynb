{
 "cells": [
  {
   "cell_type": "code",
   "execution_count": 2,
   "metadata": {},
   "outputs": [],
   "source": [
    "import matplotlib.pyplot as plt\n",
    "import numpy as np\n",
    "import pandas as pd\n",
    "import random\n",
    "from sklearn.model_selection import train_test_split\n",
    "from sklearn import preprocessing\n",
    "#caller.set_index('key').join(other.set_index('key'))\n",
    "\n",
    "\n",
    "random.seed(13)\n",
    "\n",
    "\n",
    "def normalize(X_train, X_val, X_test):\n",
    "    X_train_normalized = X_train.values.astype(float)\n",
    "    min_max_scaler = preprocessing.MinMaxScaler()\n",
    "\n",
    "    # Create an object to transform the data to fit minmax processor\n",
    "    x_scaled = min_max_scaler.fit_transform(X_train_normalized)\n",
    "\n",
    "    # Run the normalizer on the dataframe\n",
    "    x = pd.DataFrame(x_scaled, columns=X_train.columns)\n",
    "\n",
    "    X_val_normalized = X_val.values.astype(float)\n",
    "    min_max_scaler = preprocessing.MinMaxScaler()\n",
    "\n",
    "    # Create an object to transform the data to fit minmax processor\n",
    "    x_val_scaled = min_max_scaler.fit_transform(X_val_normalized)\n",
    "\n",
    "    # Run the normalizer on the dataframe\n",
    "    x_v = pd.DataFrame(x_val_scaled, columns=X_val.columns)\n",
    "\n",
    "    X_test_normalized = X_test.values.astype(float)\n",
    "    min_max_scaler = preprocessing.MinMaxScaler()\n",
    "\n",
    "    # Create an object to transform the data to fit minmax processor\n",
    "    x_test_scaled = min_max_scaler.fit_transform(X_test_normalized)\n",
    "\n",
    "    # Run the normalizer on the dataframe\n",
    "    x_t = pd.DataFrame(x_test_scaled, columns=X_test.columns)\n",
    "    return x, x_v, x_t\n",
    "\n",
    "\n",
    "\n",
    "def split(dataset, val_frac=0.10, test_frac=0.10):\n",
    "    X = dataset.loc[:, dataset.columns != 'price']\n",
    "    X = X.loc[:, X.columns != 'id']\n",
    "    X = X.loc[:, X.columns != 'host_id']\n",
    "    X = X.loc[:, X.columns != 'Unnamed: 0']\n",
    "\n",
    "    y = dataset['price']\n",
    "\n",
    "    X_train, X_test, y_train, y_test = train_test_split(X, y, test_size=(val_frac+test_frac), random_state=1)\n",
    "    X_test, X_val, y_test, y_val = train_test_split(X_test, y_test, test_size=val_frac/(val_frac+test_frac), random_state=1)\n",
    "\n",
    "    return X_train, y_train, X_val, y_val, X_test, y_test\n",
    "\n",
    "\n"
   ]
  },
  {
   "cell_type": "code",
   "execution_count": 3,
   "metadata": {},
   "outputs": [],
   "source": [
    "\n",
    "dataset = pd.read_csv('./Data/data_cleaned.csv')\n",
    "\n",
    "X_train, y_train, X_val, y_val, X_test, y_test = split(dataset)\n",
    "\n",
    "X_train, X_val, X_test = normalize(X_train, X_val, X_test)\n",
    "X_train.to_csv('./Data/data_cleaned_train_comments_X.csv', header=True, index=False)\n",
    "y_train.to_csv('./Data/data_cleaned_train_y.csv', header=True, index=False)\n",
    "\n",
    "X_val.to_csv('./Data/data_cleaned_val_comments_X.csv', header=True, index=False)\n",
    "y_val.to_csv('./Data/data_cleaned_val_y.csv', header=True, index=False)\n",
    "\n",
    "X_test.to_csv('./Data/data_cleaned_test_comments_X.csv', header=True, index=False)\n",
    "y_test.to_csv('./Data/data_cleaned_test_y.csv', header=True, index=False)"
   ]
  },
  {
   "cell_type": "code",
   "execution_count": null,
   "metadata": {},
   "outputs": [],
   "source": []
  }
 ],
 "metadata": {
  "kernelspec": {
   "display_name": "Python 3",
   "language": "python",
   "name": "python3"
  },
  "language_info": {
   "codemirror_mode": {
    "name": "ipython",
    "version": 3
   },
   "file_extension": ".py",
   "mimetype": "text/x-python",
   "name": "python",
   "nbconvert_exporter": "python",
   "pygments_lexer": "ipython3",
   "version": "3.7.1"
  }
 },
 "nbformat": 4,
 "nbformat_minor": 2
}
